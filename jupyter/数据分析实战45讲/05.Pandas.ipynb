{
 "cells": [
  {
   "cell_type": "code",
   "execution_count": 1,
   "metadata": {},
   "outputs": [
    {
     "name": "stdout",
     "output_type": "stream",
     "text": [
      "0    1\n",
      "1    2\n",
      "2    3\n",
      "3    4\n",
      "dtype: int64\n",
      "a    1\n",
      "b    2\n",
      "c    3\n",
      "d    4\n",
      "dtype: int64\n"
     ]
    }
   ],
   "source": [
    "import pandas as pd\n",
    "from pandas import Series,DataFrame\n",
    "\n",
    "x1 = Series([1,2,3,4])\n",
    "x2 = Series(data=[1,2,3,4],index = ['a','b','c','d'])\n",
    "print x1\n",
    "print x2"
   ]
  },
  {
   "cell_type": "code",
   "execution_count": 2,
   "metadata": {},
   "outputs": [
    {
     "name": "stdout",
     "output_type": "stream",
     "text": [
      "a    1\n",
      "b    2\n",
      "c    3\n",
      "d    4\n",
      "dtype: int64\n"
     ]
    }
   ],
   "source": [
    "d = {'a':1,'b':2,'c':3,'d':4}\n",
    "x3 = Series(d)\n",
    "print x3"
   ]
  },
  {
   "cell_type": "code",
   "execution_count": 5,
   "metadata": {},
   "outputs": [
    {
     "name": "stdout",
     "output_type": "stream",
     "text": [
      "   Chinese  English  Math\n",
      "0       66       65    30\n",
      "1       95       85    98\n",
      "2       93       92    60\n",
      "3       90       22    77\n",
      "4       80       90   100\n",
      "          Chinese  English  Math\n",
      "ZhangSan       66       65    30\n",
      "Lisi           95       85    98\n",
      "WangWu         93       92    60\n",
      "ZhaoLiu        90       22    77\n",
      "XueQi          80       90   100\n"
     ]
    }
   ],
   "source": [
    "\n",
    "data = {'Chinese':[66,95,93,90,80],'English':[65,85,92,22,90],'Math':[30,98,60,77,100]}\n",
    "df1 = DataFrame(data)\n",
    "df2 = DataFrame(data,index = ['ZhangSan','Lisi','WangWu','ZhaoLiu','XueQi'])\n",
    "print df1\n",
    "print df2\n",
    "\n",
    "df2.to_excel(\"data.xlsx\")"
   ]
  },
  {
   "cell_type": "code",
   "execution_count": 1,
   "metadata": {
    "scrolled": true
   },
   "outputs": [
    {
     "name": "stdout",
     "output_type": "stream",
     "text": [
      "          English  Math\n",
      "ZhangSan       65    30\n",
      "Lisi           85    98\n",
      "WangWu         92    60\n",
      "ZhaoLiu        22    77\n",
      "XueQi          90   100\n",
      "          Chinese  English  Math\n",
      "ZhangSan       66       65    30\n",
      "WangWu         93       92    60\n",
      "ZhaoLiu        90       22    77\n",
      "XueQi          80       90   100\n"
     ]
    }
   ],
   "source": [
    "import pandas as pd\n",
    "from pandas import Series,DataFrame\n",
    "import numpy as np\n",
    "data = {'Chinese':[66,95,93,90,80],'English':[65,85,92,22,90],'Math':[30,98,60,77,100]}\n",
    "df2 = DataFrame(data,index = ['ZhangSan','Lisi','WangWu','ZhaoLiu','XueQi'])\n",
    "\n",
    "\n",
    "print(df2.drop(columns=['Chinese']))\n",
    "\n",
    "print(df2.drop(index=['Lisi']))"
   ]
  },
  {
   "cell_type": "code",
   "execution_count": 7,
   "metadata": {
    "scrolled": true
   },
   "outputs": [
    {
     "name": "stdout",
     "output_type": "stream",
     "text": [
      "None\n",
      "          YuWen  YingYu  ShuXue\n",
      "ZhangSan     66      65      30\n",
      "Lisi         95      85      98\n",
      "WangWu       93      92      60\n",
      "ZhaoLiu      90      22      77\n",
      "XueQi        80      90     100\n"
     ]
    }
   ],
   "source": [
    "# inplace直接原地修改\n",
    "df2.rename(columns={'Chinese':'YuWen','English':'YingYu','Math':'ShuXue'},inplace=True)\n",
    "print( df2)"
   ]
  },
  {
   "cell_type": "code",
   "execution_count": 13,
   "metadata": {},
   "outputs": [
    {
     "name": "stdout",
     "output_type": "stream",
     "text": [
      "          Chinese  English  Math\n",
      "ZhangSan       66       65    30\n",
      "Lisi           95       85    98\n",
      "WangWu         93       92    60\n",
      "ZhaoLiu        90       22    77\n",
      "XueQi          80       90   100\n",
      "HeiBa          80       90   100\n"
     ]
    },
    {
     "data": {
      "text/html": [
       "<div>\n",
       "<style scoped>\n",
       "    .dataframe tbody tr th:only-of-type {\n",
       "        vertical-align: middle;\n",
       "    }\n",
       "\n",
       "    .dataframe tbody tr th {\n",
       "        vertical-align: top;\n",
       "    }\n",
       "\n",
       "    .dataframe thead th {\n",
       "        text-align: right;\n",
       "    }\n",
       "</style>\n",
       "<table border=\"1\" class=\"dataframe\">\n",
       "  <thead>\n",
       "    <tr style=\"text-align: right;\">\n",
       "      <th></th>\n",
       "      <th>Chinese</th>\n",
       "      <th>English</th>\n",
       "      <th>Math</th>\n",
       "    </tr>\n",
       "  </thead>\n",
       "  <tbody>\n",
       "    <tr>\n",
       "      <th>ZhangSan</th>\n",
       "      <td>66</td>\n",
       "      <td>65</td>\n",
       "      <td>30</td>\n",
       "    </tr>\n",
       "    <tr>\n",
       "      <th>Lisi</th>\n",
       "      <td>95</td>\n",
       "      <td>85</td>\n",
       "      <td>98</td>\n",
       "    </tr>\n",
       "    <tr>\n",
       "      <th>WangWu</th>\n",
       "      <td>93</td>\n",
       "      <td>92</td>\n",
       "      <td>60</td>\n",
       "    </tr>\n",
       "    <tr>\n",
       "      <th>ZhaoLiu</th>\n",
       "      <td>90</td>\n",
       "      <td>22</td>\n",
       "      <td>77</td>\n",
       "    </tr>\n",
       "    <tr>\n",
       "      <th>XueQi</th>\n",
       "      <td>80</td>\n",
       "      <td>90</td>\n",
       "      <td>100</td>\n",
       "    </tr>\n",
       "  </tbody>\n",
       "</table>\n",
       "</div>"
      ],
      "text/plain": [
       "          Chinese  English  Math\n",
       "ZhangSan       66       65    30\n",
       "Lisi           95       85    98\n",
       "WangWu         93       92    60\n",
       "ZhaoLiu        90       22    77\n",
       "XueQi          80       90   100"
      ]
     },
     "execution_count": 13,
     "metadata": {},
     "output_type": "execute_result"
    }
   ],
   "source": [
    "data = {'Chinese':[66,95,93,90,80,80],'English':[65,85,92,22,90,90],'Math':[30,98,60,77,100,100]}\n",
    "df2 = DataFrame(data,index = ['ZhangSan','Lisi','WangWu','ZhaoLiu','XueQi','HeiBa'])\n",
    "print(df2)\n",
    "#去除重复行\n",
    "df2.drop_duplicates(inplace=True)\n",
    "df2\n",
    "\n"
   ]
  },
  {
   "cell_type": "code",
   "execution_count": 25,
   "metadata": {
    "scrolled": true
   },
   "outputs": [
    {
     "name": "stdout",
     "output_type": "stream",
     "text": [
      "Chinese    int64\n",
      "English    int64\n",
      "Math       int64\n",
      "dtype: object\n",
      "Chinese    object\n",
      "English     int64\n",
      "Math        int64\n",
      "dtype: object\n",
      "Chinese    int64\n",
      "English    int32\n",
      "Math       int64\n",
      "dtype: object\n"
     ]
    }
   ],
   "source": [
    "\n",
    "data = {'Chinese':[66,95,93,90,80],'English':[65,85,92,22,90],'Math':[30,98,60,77,100]}\n",
    "df1 = DataFrame(data,index = ['ZhangSan','Lisi','WangWu','ZhaoLiu','XueQi'])\n",
    "print(df1.dtypes)\n",
    "\n",
    "df2 = df1.astype({'Chinese':'str'})\n",
    "print(df2.dtypes)\n",
    "\n",
    "df3 = df1.astype({'English':np.int32})\n",
    "print(df3.dtypes)\n"
   ]
  },
  {
   "cell_type": "code",
   "execution_count": 30,
   "metadata": {},
   "outputs": [],
   "source": [
    "type(df1['Chinese'])\n",
    "\n",
    "df1 = df1.astype({'Chinese':'str'})\n",
    "# 使用 Series的map函数去除元素的空格\n",
    "df1['Chinese'] = df1['Chinese'].map(str.strip)\n",
    "# 去除元素中的$字符串\n",
    "df1['Chinese'] = df1['Chinese'].str.strip('$')\n",
    "df1['Chinese'] = df1['Chinese'].str.upper()\n",
    "df1['Chinese'] = df1['Chinese'].str.lower()\n",
    "# 元素首字母大写\n",
    "df1['Chinese'] = df1['Chinese'].str.title()"
   ]
  },
  {
   "cell_type": "code",
   "execution_count": 36,
   "metadata": {
    "scrolled": true
   },
   "outputs": [
    {
     "name": "stdout",
     "output_type": "stream",
     "text": [
      "          Chinese  English  Math\n",
      "ZhangSan     66.0       65    30\n",
      "Lisi         95.0       85    98\n",
      "WangWu       93.0       92    60\n",
      "ZhaoLiu      90.0       22    77\n",
      "XueQi         NaN       90   100\n",
      "          Chinese  English   Math\n",
      "ZhangSan    False    False  False\n",
      "Lisi        False    False  False\n",
      "WangWu      False    False  False\n",
      "ZhaoLiu     False    False  False\n",
      "XueQi        True    False  False\n",
      "Chinese     True\n",
      "English    False\n",
      "Math       False\n",
      "dtype: bool\n"
     ]
    }
   ],
   "source": [
    "data = {'Chinese':[66,95,93,90,None],'English':[65,85,92,22,90],'Math':[30,98,60,77,100]}\n",
    "df1 = DataFrame(data,index = ['ZhangSan','Lisi','WangWu','ZhaoLiu','XueQi'])\n",
    "print(df1)\n",
    "# 哪些cell存在空值\n",
    "print(df1.isnull())\n",
    "# 哪些列存在空值\n",
    "print(df1.isnull().any())"
   ]
  },
  {
   "cell_type": "markdown",
   "metadata": {},
   "source": [
    "## apply"
   ]
  },
  {
   "cell_type": "code",
   "execution_count": 51,
   "metadata": {},
   "outputs": [
    {
     "name": "stdout",
     "output_type": "stream",
     "text": [
      "0    XIAOMING\n",
      "1        LISI\n",
      "2        NONE\n",
      "Name: name, dtype: object\n",
      "       name  age     sex\n",
      "0  xiaoMing   18    male\n",
      "1      LiSI   20  female\n",
      "2      None   50    None\n",
      "       name  age     sex\n",
      "0  XIAOMING   18    male\n",
      "1      LISI   20  female\n",
      "2      NONE   50    None\n"
     ]
    }
   ],
   "source": [
    "data = {'name':['xiaoMing','LiSI','None'],'age':[18,20,50]}\n",
    "df = DataFrame(data)\n",
    "\n",
    "print(df['name'].apply(str.upper))\n",
    "# 插入一个sex列，python原生str.upper()函数不能处理None值，但是pandas提供的st可以\n",
    "df.insert(2,'sex',['male','female',None])\n",
    "print(df)\n",
    "\n",
    "df['name'] = df['name'].str.upper()\n",
    "\n",
    "print(df)"
   ]
  },
  {
   "cell_type": "code",
   "execution_count": 63,
   "metadata": {},
   "outputs": [
    {
     "name": "stdout",
     "output_type": "stream",
     "text": [
      "       name  age     sex\n",
      "0  XIAOMING   18    male\n",
      "1      LISI   20  female\n",
      "2      NONE   50    None\n"
     ]
    }
   ],
   "source": [
    "def double_df(x):\n",
    "    return 2*x\n",
    "df['age'].apply(double_df)"
   ]
  },
  {
   "cell_type": "code",
   "execution_count": 66,
   "metadata": {},
   "outputs": [
    {
     "name": "stdout",
     "output_type": "stream",
     "text": [
      "   姓名    语文  英语   数学\n",
      "0  张飞  66.0  65   30\n",
      "1  关羽  95.0  85   98\n",
      "2  赵云  93.0  92   60\n",
      "3  黄忠  90.0  22   77\n",
      "4  典韦   NaN  90  100\n",
      "--不接收返回值\n",
      "    姓名    语文  英语   数学\n",
      "0  张飞  66.0  65   30\n",
      "1  关羽  95.0  85   98\n",
      "2  赵云  93.0  92   60\n",
      "3  黄忠  90.0  22   77\n",
      "4  典韦   NaN  90  100\n",
      "--接收返回值\n",
      "    姓名    语文  英语   数学   new1   new2\n",
      "0  张飞  66.0  65   30  393.0  262.0\n",
      "1  关羽  95.0  85   98  540.0  360.0\n",
      "2  赵云  93.0  92   60  555.0  370.0\n",
      "3  黄忠  90.0  22   77  336.0  224.0\n",
      "4  典韦   NaN  90  100    NaN    NaN\n"
     ]
    }
   ],
   "source": [
    "data = {'姓名':['张飞','关羽','赵云','黄忠','典韦'],'语文':[66,95,93,90,None],'英语':[65,85,92,22,90],'数学':[30,98,60,77,100]}\n",
    "df1 = DataFrame(data)\n",
    "print(df1)\n",
    "\n",
    "\n",
    "def plus(df,n,m):\n",
    "    df['new1'] = (df[u'语文']+df[u'英语'])*m\n",
    "    df['new2'] = (df[u'语文']+df[u'英语'])*n\n",
    "    return df\n",
    "\n",
    "df1.apply(plus,axis=1,args=(2,3))\n",
    "print('--不接收返回值\\n',df1)\n",
    "df1 = df1.apply(plus,axis=1,args=(2,3))\n",
    "print('--接收返回值\\n',df1)\n",
    "'''\n",
    "apply函数不会改变原来DataFrame的内容。\n",
    "\n",
    "使用自定义的函数，在函数里创建新的DataFrame的col，如果不将该df返回，是不会影响外部的DataFrame的。\n",
    "这说明了python使用的是值传递，而不是引用传递\n",
    "'''"
   ]
  },
  {
   "cell_type": "code",
   "execution_count": 4,
   "metadata": {},
   "outputs": [
    {
     "name": "stdout",
     "output_type": "stream",
     "text": [
      "       name  data1\n",
      "0  zhangfei      0\n",
      "1    guanyu      1\n",
      "2         a      2\n",
      "3         b      3\n",
      "4         c      4\n",
      "          data1\n",
      "count  5.000000\n",
      "mean   2.000000\n",
      "std    1.581139\n",
      "min    0.000000\n",
      "25%    1.000000\n",
      "50%    2.000000\n",
      "75%    3.000000\n",
      "max    4.000000\n"
     ]
    }
   ],
   "source": [
    "df = DataFrame({'name':['zhangfei','guanyu','a','b','c'],'data1':range(5)})\n",
    "print(df)\n",
    "print(df.describe())"
   ]
  },
  {
   "cell_type": "markdown",
   "metadata": {},
   "source": [
    "## 合并DataFrame Merge"
   ]
  },
  {
   "cell_type": "code",
   "execution_count": 9,
   "metadata": {},
   "outputs": [
    {
     "name": "stdout",
     "output_type": "stream",
     "text": [
      "--指定列进行连接--\n",
      "       name  data1  data2\n",
      "0  ZhangFei      0      0\n",
      "1    GuanYu      1      1\n",
      "--内连接--\n",
      "       name  data1  data2\n",
      "0  ZhangFei      0      0\n",
      "1    GuanYu      1      1\n",
      "--左连接--\n",
      "       name  data1  data2\n",
      "0  ZhangFei      0    0.0\n",
      "1    GuanYu      1    1.0\n",
      "2         a      2    NaN\n",
      "3         b      3    NaN\n",
      "4         c      4    NaN\n",
      "--右连接--\n",
      "       name  data1  data2\n",
      "0  ZhangFei    0.0      0\n",
      "1    GuanYu    1.0      1\n",
      "2         A    NaN      2\n",
      "3         B    NaN      3\n",
      "4         C    NaN      4\n",
      "--外连接--\n",
      "       name  data1  data2\n",
      "0  ZhangFei    0.0    0.0\n",
      "1    GuanYu    1.0    1.0\n",
      "2         a    2.0    NaN\n",
      "3         b    3.0    NaN\n",
      "4         c    4.0    NaN\n",
      "5         A    NaN    2.0\n",
      "6         B    NaN    3.0\n",
      "7         C    NaN    4.0\n"
     ]
    }
   ],
   "source": [
    "df1 = DataFrame({'name':['ZhangFei', 'GuanYu', 'a', 'b', 'c'],'data1':range(5)})\n",
    "df2 = DataFrame({'name':['ZhangFei', 'GuanYu', 'A', 'B', 'C'],'data2':range(5)})\n",
    "\n",
    "print('--指定列进行连接--')\n",
    "print(pd.merge(df1,df2,on='name'))\n",
    "\n",
    "print('--内连接--')\n",
    "print(pd.merge(df1,df2,how='inner'))\n",
    "\n",
    "print('--左连接--')\n",
    "print(pd.merge(df1,df2,how='left'))\n",
    "\n",
    "print('--右连接--')\n",
    "print(pd.merge(df1,df2,how='right'))\n",
    "\n",
    "print('--外连接--')\n",
    "print(pd.merge(df1,df2,how='outer'))"
   ]
  },
  {
   "cell_type": "markdown",
   "metadata": {},
   "source": [
    "# SQL使用pandas"
   ]
  },
  {
   "cell_type": "code",
   "execution_count": 14,
   "metadata": {},
   "outputs": [
    {
     "name": "stdout",
     "output_type": "stream",
     "text": [
      "       name  data1\n",
      "0  ZhangFei      0\n"
     ]
    }
   ],
   "source": [
    "import pandas as pd\n",
    "from pandas import DataFrame\n",
    "from pandasql import sqldf,load_meat,load_births\n",
    "df1 = DataFrame({'name':['ZhangFei', 'GuanYu', 'a', 'b', 'c'],'data1':range(5)})\n",
    "\n",
    "pysqldf = lambda sql: sqldf(sql,globals())\n",
    "sql = \"select * from df1 where name = 'ZhangFei'\"\n",
    "print(pysqldf(sql))"
   ]
  },
  {
   "cell_type": "markdown",
   "metadata": {},
   "source": [
    "# 课后习题"
   ]
  },
  {
   "cell_type": "markdown",
   "metadata": {},
   "source": [
    "## 个人解法"
   ]
  },
  {
   "cell_type": "code",
   "execution_count": 30,
   "metadata": {},
   "outputs": [
    {
     "name": "stdout",
     "output_type": "stream",
     "text": [
      "   姓名    语文  英语   数学\n",
      "0  张飞  66.0  65   30\n",
      "1  关羽  95.0  85   98\n",
      "2  赵云  93.0  92   60\n",
      "3  黄忠  90.0  22   77\n",
      "4  典韦   NaN  90  100\n",
      "   姓名    语文  英语   数学\n",
      "0  张飞  66.0  65   30\n",
      "1  关羽  95.0  85   98\n",
      "2  赵云  93.0  92   60\n",
      "3  黄忠  90.0  22   77\n",
      "4  典韦   0.0  90  100\n",
      "   姓名    语文  英语   数学     总分\n",
      "0  张飞  66.0  65   30  161.0\n",
      "1  关羽  95.0  85   98  278.0\n",
      "2  赵云  93.0  92   60  245.0\n",
      "3  黄忠  90.0  22   77  189.0\n",
      "4  典韦   0.0  90  100  190.0\n"
     ]
    },
    {
     "name": "stderr",
     "output_type": "stream",
     "text": [
      "C:\\Users\\admin\\AppData\\Local\\Temp\\ipykernel_20188\\3818111841.py:11: FutureWarning: Dropping of nuisance columns in DataFrame reductions (with 'numeric_only=None') is deprecated; in a future version this will raise TypeError.  Select only valid columns before calling the reduction.\n",
      "  df1[u'总分'] = df1.sum(axis=1)\n"
     ]
    }
   ],
   "source": [
    "\n",
    "data = {'姓名':['张飞','关羽','赵云','黄忠','典韦','典韦'],'语文':[66,95,93,90,None],'英语':[65,85,92,22,90],'数学':[30,98,60,77,100]}\n",
    "df1 = DataFrame(data)\n",
    "\n",
    "def clean(x):\n",
    "    if(x is None):\n",
    "        return 0\n",
    "    return x\n",
    "print(df1)\n",
    "df1 = df1.fillna(0)\n",
    "print(df1)\n",
    "df1[u'总分'] = df1.sum(axis=1)\n",
    "print(df1)"
   ]
  },
  {
   "cell_type": "markdown",
   "metadata": {},
   "source": [
    "## 参考后进行的改进"
   ]
  },
  {
   "cell_type": "code",
   "execution_count": 66,
   "metadata": {},
   "outputs": [
    {
     "name": "stdout",
     "output_type": "stream",
     "text": [
      "1.清除重复的行\n",
      "  name  Chinese  English  Math\n",
      "0   张飞       66       65   NaN\n",
      "1   关羽       95       95  98.0\n",
      "2   赵云       95       92  96.0\n",
      "3   黄忠       90       88  77.0\n",
      "4   典韦       80       90  90.0\n",
      "2.对空值做处理\n",
      "  name  Chinese  English   Math\n",
      "0   张飞       66       65  90.25\n",
      "1   关羽       95       95  98.00\n",
      "2   赵云       95       92  96.00\n",
      "3   黄忠       90       88  77.00\n",
      "4   典韦       80       90  90.00\n",
      "3.计算总分\n",
      "  name  Chinese  English   Math      总分\n",
      "0   张飞       66       65  90.25  221.25\n",
      "1   关羽       95       95  98.00  288.00\n",
      "2   赵云       95       92  96.00  283.00\n",
      "3   黄忠       90       88  77.00  255.00\n",
      "4   典韦       80       90  90.00  260.00\n",
      "4.美化数据\n",
      "   姓名  语文  英语     数学      总分\n",
      "1  关羽  95  95  98.00  288.00\n",
      "2  赵云  95  92  96.00  283.00\n",
      "4  典韦  80  90  90.00  260.00\n",
      "3  黄忠  90  88  77.00  255.00\n",
      "0  张飞  66  65  90.25  221.25\n",
      "5.使用pandasql实现美化数据\n"
     ]
    },
    {
     "name": "stderr",
     "output_type": "stream",
     "text": [
      "C:\\Users\\admin\\AppData\\Local\\Temp\\ipykernel_20188\\2116375979.py:15: FutureWarning: Dropping of nuisance columns in DataFrame reductions (with 'numeric_only=None') is deprecated; in a future version this will raise TypeError.  Select only valid columns before calling the reduction.\n",
      "  df1[u'总分'] = df1.sum(axis=1)\n"
     ]
    },
    {
     "data": {
      "text/html": [
       "<div>\n",
       "<style scoped>\n",
       "    .dataframe tbody tr th:only-of-type {\n",
       "        vertical-align: middle;\n",
       "    }\n",
       "\n",
       "    .dataframe tbody tr th {\n",
       "        vertical-align: top;\n",
       "    }\n",
       "\n",
       "    .dataframe thead th {\n",
       "        text-align: right;\n",
       "    }\n",
       "</style>\n",
       "<table border=\"1\" class=\"dataframe\">\n",
       "  <thead>\n",
       "    <tr style=\"text-align: right;\">\n",
       "      <th></th>\n",
       "      <th>姓名</th>\n",
       "      <th>语文</th>\n",
       "      <th>英语</th>\n",
       "      <th>数学</th>\n",
       "      <th>总分</th>\n",
       "    </tr>\n",
       "  </thead>\n",
       "  <tbody>\n",
       "    <tr>\n",
       "      <th>0</th>\n",
       "      <td>关羽</td>\n",
       "      <td>95</td>\n",
       "      <td>95</td>\n",
       "      <td>98.00</td>\n",
       "      <td>288.00</td>\n",
       "    </tr>\n",
       "    <tr>\n",
       "      <th>1</th>\n",
       "      <td>赵云</td>\n",
       "      <td>95</td>\n",
       "      <td>92</td>\n",
       "      <td>96.00</td>\n",
       "      <td>283.00</td>\n",
       "    </tr>\n",
       "    <tr>\n",
       "      <th>2</th>\n",
       "      <td>典韦</td>\n",
       "      <td>80</td>\n",
       "      <td>90</td>\n",
       "      <td>90.00</td>\n",
       "      <td>260.00</td>\n",
       "    </tr>\n",
       "    <tr>\n",
       "      <th>3</th>\n",
       "      <td>黄忠</td>\n",
       "      <td>90</td>\n",
       "      <td>88</td>\n",
       "      <td>77.00</td>\n",
       "      <td>255.00</td>\n",
       "    </tr>\n",
       "    <tr>\n",
       "      <th>4</th>\n",
       "      <td>张飞</td>\n",
       "      <td>66</td>\n",
       "      <td>65</td>\n",
       "      <td>90.25</td>\n",
       "      <td>221.25</td>\n",
       "    </tr>\n",
       "  </tbody>\n",
       "</table>\n",
       "</div>"
      ],
      "text/plain": [
       "   姓名  语文  英语     数学      总分\n",
       "0  关羽  95  95  98.00  288.00\n",
       "1  赵云  95  92  96.00  283.00\n",
       "2  典韦  80  90  90.00  260.00\n",
       "3  黄忠  90  88  77.00  255.00\n",
       "4  张飞  66  65  90.25  221.25"
      ]
     },
     "execution_count": 66,
     "metadata": {},
     "output_type": "execute_result"
    }
   ],
   "source": [
    "data = {'name':['张飞','关羽','赵云','黄忠','典韦','典韦'],'Chinese':[66,95,95,90,80,80],'English':[65,95,92,88,90,90],'Math':[None,98,96,77,90,90]}\n",
    "df1 = DataFrame(data)\n",
    "print('1.清除重复的行')\n",
    "df1 = df1.drop_duplicates()\n",
    "print(df1)\n",
    "print('2.对空值做处理')\n",
    "# 空值按照平均值来补全\n",
    "for pair in df1.isnull().any().items():\n",
    "    if pair[1]:\n",
    "        df1[pair[0]] = df1[pair[0]].fillna(df1[pair[0]].mean(),axis=0)\n",
    "# default_value = {'name':'无姓名','Chinese':0,'English':0,'Math':0}\n",
    "# df1 = df1.fillna(default_value)\n",
    "print(df1)   \n",
    "print('3.计算总分')\n",
    "df1[u'总分'] = df1.sum(axis=1)\n",
    "print(df1)   \n",
    "print('4.美化数据')\n",
    "df1 = df1.sort_values(u'总分',ascending=False)\n",
    "df2 = df1.rename(columns={'name':'姓名','Chinese':'语文','English':'英语','Math':'数学'})\n",
    "print(df2)\n",
    "\n",
    "\n",
    "print('5.使用pandasql实现美化数据')\n",
    "pysqldf = lambda sql: sqldf(sql,globals())\n",
    "sql = \"select name As 姓名, Chinese As 语文,English AS 英语,Math AS 数学,总分 from df1 order by 总分 desc\"\n",
    "pysqldf(sql)"
   ]
  }
 ],
 "metadata": {
  "kernelspec": {
   "display_name": "Python 3",
   "language": "python",
   "name": "python3"
  },
  "language_info": {
   "codemirror_mode": {
    "name": "ipython",
    "version": 3
   },
   "file_extension": ".py",
   "mimetype": "text/x-python",
   "name": "python",
   "nbconvert_exporter": "python",
   "pygments_lexer": "ipython3",
   "version": "3.9.12"
  }
 },
 "nbformat": 4,
 "nbformat_minor": 4
}
