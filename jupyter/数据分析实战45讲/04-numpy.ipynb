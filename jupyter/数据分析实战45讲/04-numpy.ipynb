{
 "cells": [
  {
   "cell_type": "code",
   "execution_count": 4,
   "metadata": {
    "scrolled": true
   },
   "outputs": [
    {
     "name": "stdout",
     "output_type": "stream",
     "text": [
      "mean chinese score 77.5\n",
      "mean math score 95.0\n",
      "mean english score 91.375\n",
      "[('name', 'S32'), ('age', '<i4'), ('chinese', '<i4'), ('math', '<i4'), ('english', '<f4')]\n"
     ]
    }
   ],
   "source": [
    "import numpy as np\n",
    "\n",
    "person_type = np.dtype({'names':['name','age','chinese','math','english'],\n",
    "                        'formats':['S32','i','i','i','f']})\n",
    "\n",
    "peoples = np.array([('zhangsan',32,75,100,90),(\"guanyu\",24,85,96,88.5),(\"zhaoyun\",28,85,92,96.5),(\"huangzong\",29,65,92,90.5)],\n",
    "                   dtype=person_type)\n",
    "\n",
    "peoples[::]['name']\n",
    "\n",
    "print 'mean chinese score',np.mean(peoples[:]['chinese'])\n",
    "\n",
    "print 'mean math score',np.mean(peoples[:]['math'])\n",
    "\n",
    "print 'mean english score',np.mean(peoples[:]['english'])\n",
    "\n",
    "print peoples.dtype"
   ]
  },
  {
   "cell_type": "markdown",
   "metadata": {},
   "source": [
    "## 算术运算"
   ]
  },
  {
   "cell_type": "code",
   "execution_count": 11,
   "metadata": {},
   "outputs": [
    {
     "name": "stdout",
     "output_type": "stream",
     "text": [
      "[1 3 5 7 9] [ 1.  3.  5.  7.  9.]\n",
      "[  2.   6.  10.  14.  18.] [  2.   6.  10.  14.  18.]\n",
      "[ 0.  0.  0.  0.  0.] [ 0.  0.  0.  0.  0.]\n",
      "[  1.   9.  25.  49.  81.] [  1.   9.  25.  49.  81.]\n",
      "[ 1.  1.  1.  1.  1.] [ 1.  1.  1.  1.  1.]\n",
      "[  1.00000000e+00   2.70000000e+01   3.12500000e+03   8.23543000e+05\n",
      "   3.87420489e+08] [  1.00000000e+00   2.70000000e+01   3.12500000e+03   8.23543000e+05\n",
      "   3.87420489e+08]\n",
      "[ 0.  0.  0.  0.  0.] [ 0.  0.  0.  0.  0.] [ 0.  0.  0.  0.  0.]\n"
     ]
    }
   ],
   "source": [
    "import numpy as np\n",
    "# 1~11 范围内按照step生成元素\n",
    "x1 = np.arange(1,11,2)\n",
    "# 1~9 范围内，生成5个元素，包括终值\n",
    "x2 = np.linspace(1,9,5)\n",
    "print x1,x2\n",
    "\n",
    "print np.add(x1,x2) , x1+x2\n",
    "print np.subtract(x1,x2) , x1-x2\n",
    "print np.multiply(x1,x2) , x1*x2\n",
    "print np.divide(x1,x2) , x1/x2\n",
    "\n",
    "print np.power(x1,x2) , x1**x2\n",
    "# 求余,三种方式都可以\n",
    "print np.remainder(x1,x2),np.mod(x1,x2), x1%x2"
   ]
  },
  {
   "cell_type": "markdown",
   "metadata": {},
   "source": [
    "## 统计函数"
   ]
  },
  {
   "cell_type": "code",
   "execution_count": 17,
   "metadata": {
    "scrolled": true
   },
   "outputs": [
    {
     "name": "stdout",
     "output_type": "stream",
     "text": [
      "1\n",
      "[1 2 3]\n",
      "[1 4 7]\n",
      "9\n",
      "[7 8 9]\n",
      "[3 6 9]\n"
     ]
    }
   ],
   "source": [
    "import numpy as numpy\n",
    "\n",
    "a = np.array([[1,2,3], [4,5,6], [7,8,9]])\n",
    "\n",
    "# 矩阵中的最小值\n",
    "print np.amin(a)\n",
    "# axis = 0 ,\n",
    "print np.amin(a,axis=0)\n",
    "print np.amin(a,axis=1)\n",
    "\n",
    "# 矩阵中的最大值\n",
    "print np.amax(a)\n",
    "# axis = 0 ,\n",
    "print np.amax(a,axis=0)\n",
    "print np.amax(a,axis=1)"
   ]
  },
  {
   "cell_type": "code",
   "execution_count": 20,
   "metadata": {},
   "outputs": [
    {
     "name": "stdout",
     "output_type": "stream",
     "text": [
      "8\n",
      "[6 6 6]\n",
      "[2 2 2]\n"
     ]
    }
   ],
   "source": [
    "a = np.array([[1,2,3], [4,5,6], [7,8,9]])\n",
    "\n",
    "\n",
    "# 最大值和最小值的差\n",
    "print np.ptp(a)\n",
    "\n",
    "print np.ptp(a,0)\n",
    "print np.ptp(a,1)"
   ]
  },
  {
   "cell_type": "code",
   "execution_count": 24,
   "metadata": {
    "scrolled": true
   },
   "outputs": [
    {
     "name": "stdout",
     "output_type": "stream",
     "text": [
      "5.0\n",
      "[ 4.  5.  6.]\n",
      "[ 2.  5.  8.]\n"
     ]
    }
   ],
   "source": [
    "a = np.array([[1,2,3], [4,5,6], [7,8,9]])\n",
    "\n",
    "# 计算矩阵的值的总和的百分之50，即平均值\n",
    "print np.percentile(a,50)\n",
    "\n",
    "print np.percentile(a,50,0)\n",
    "print np.percentile(a,50,1)"
   ]
  },
  {
   "cell_type": "code",
   "execution_count": 30,
   "metadata": {},
   "outputs": [
    {
     "name": "stdout",
     "output_type": "stream",
     "text": [
      "5.0\n",
      "4.88888888889\n",
      "2.6\n"
     ]
    }
   ],
   "source": [
    "a = np.array([[1,2,3], [4,5,5], [7,8,9]])\n",
    "\n",
    "# 中位数,即中间的数\n",
    "print np.median(a)\n",
    "\n",
    "# 平均值\n",
    "print np.mean(a)\n",
    "\n",
    "a = np.array([1,2,3,4])\n",
    "# 加权平均值\n",
    "print np.average(a,weights=[1,1,2,1])"
   ]
  },
  {
   "cell_type": "code",
   "execution_count": 32,
   "metadata": {},
   "outputs": [
    {
     "name": "stdout",
     "output_type": "stream",
     "text": [
      "1.11803398875\n",
      "1.25\n"
     ]
    }
   ],
   "source": [
    "a = np.array([1,2,3,4])\n",
    "# 标准差\n",
    "print np.std(a)\n",
    "# 方差\n",
    "print np.var(a)"
   ]
  },
  {
   "cell_type": "code",
   "execution_count": 38,
   "metadata": {
    "scrolled": true
   },
   "outputs": [
    {
     "name": "stdout",
     "output_type": "stream",
     "text": [
      "[[4 3 2]\n",
      " [2 4 1]]\n",
      "[[2 3 4]\n",
      " [1 2 4]]\n",
      "[1 2 2 3 4 4]\n",
      "[[2 3 1]\n",
      " [4 4 2]]\n",
      "[[2 3 4]\n",
      " [1 2 4]]\n"
     ]
    }
   ],
   "source": [
    "a = np.array([[4,3,2],[2,4,1]])\n",
    "\n",
    "print a\n",
    "print np.sort(a)\n",
    "# 将多维数组扁平化在排序\n",
    "print np.sort(a,axis=None)\n",
    "print np.sort(a,axis=0)\n",
    "print np.sort(a,axis=1)"
   ]
  },
  {
   "cell_type": "markdown",
   "metadata": {},
   "source": [
    "## 练习：统计全班的成绩"
   ]
  },
  {
   "cell_type": "code",
   "execution_count": 65,
   "metadata": {},
   "outputs": [
    {
     "name": "stdout",
     "output_type": "stream",
     "text": [
      "[('zhangfei', 66, 65, 30, 0) ('guanyu', 95, 85, 98, 0)\n",
      " ('zhanyun', 93, 92, 96, 0) ('huangzong', 90, 88, 77, 0)\n",
      " ('dianwei', 90, 90, 90, 0)]\n"
     ]
    }
   ],
   "source": [
    "import numpy as np\n",
    "\n",
    "self_dtype = np.dtype({'names':('name','cn','en','math','total'),'formats':('S32','i','i','i','i')}) \n",
    "\n",
    "data = np.array(\n",
    "    [\n",
    "        ('zhangfei',66,65,30,0),\n",
    "        ('guanyu',95,85,98,0),\n",
    "        ('zhanyun',93,92,96,0),\n",
    "        ('huangzong',90,88,77,0),\n",
    "        ('dianwei',90,90,90,0),\n",
    "    ],dtype=self_dtype\n",
    ")\n",
    "\n",
    "print data"
   ]
  },
  {
   "cell_type": "code",
   "execution_count": 66,
   "metadata": {
    "scrolled": false
   },
   "outputs": [
    {
     "name": "stdout",
     "output_type": "stream",
     "text": [
      "---语文---\n",
      "min: 66\n",
      "max: 95\n",
      "mean: 86.8\n",
      "var: 111.76\n",
      "std: 10.5716602291\n",
      "---英语---\n",
      "min: 65\n",
      "max: 92\n",
      "mean: 84.0\n",
      "var: 95.6\n",
      "std: 9.77752524926\n",
      "---数学---\n",
      "min: 30\n",
      "max: 98\n",
      "mean: 78.2\n",
      "var: 634.56\n",
      "std: 25.1904743901\n",
      "---cn---\n",
      "min: 66\n",
      "max: 95\n",
      "mean: 86.8\n",
      "var: 111.76\n",
      "std: 10.5716602291\n",
      "---en---\n",
      "min: 65\n",
      "max: 92\n",
      "mean: 84.0\n",
      "var: 95.6\n",
      "std: 9.77752524926\n",
      "---math---\n",
      "min: 30\n",
      "max: 98\n",
      "mean: 78.2\n",
      "var: 634.56\n",
      "std: 25.1904743901\n",
      "---total---\n",
      "min: 0\n",
      "max: 0\n",
      "mean: 0.0\n",
      "var: 0.0\n",
      "std: 0.0\n"
     ]
    }
   ],
   "source": [
    "def show(clazz,data):    \n",
    "    print '---{}---'.format(clazz)\n",
    "    print 'min:', np.min(data)\n",
    "    print 'max:', np.max(data)\n",
    "    print 'mean:', np.mean(data)\n",
    "    print 'var:', np.var(data)\n",
    "    print 'std:', np.std(data)\n",
    "\n",
    "    \n",
    "show('语文',data[:]['cn'])\n",
    "show('英语',data[:]['en'])\n",
    "show('数学',data[:]['math'])\n",
    "\n",
    "for col in data.dtype.names:\n",
    "    if col != 'name':\n",
    "        show(col,data[:][col])"
   ]
  },
  {
   "cell_type": "code",
   "execution_count": 67,
   "metadata": {},
   "outputs": [
    {
     "name": "stdout",
     "output_type": "stream",
     "text": [
      "---method 1\n",
      "[('zhanyun', 93, 92, 96, 281) ('guanyu', 95, 85, 98, 278)\n",
      " ('dianwei', 90, 90, 90, 270) ('huangzong', 90, 88, 77, 255)\n",
      " ('zhangfei', 66, 65, 30, 161)]\n",
      "---method 2\n"
     ]
    },
    {
     "data": {
      "text/plain": [
       "[('zhanyun', 93, 92, 96, 281),\n",
       " ('guanyu', 95, 85, 98, 278),\n",
       " ('dianwei', 90, 90, 90, 270),\n",
       " ('huangzong', 90, 88, 77, 255),\n",
       " ('zhangfei', 66, 65, 30, 161)]"
      ]
     },
     "execution_count": 67,
     "metadata": {},
     "output_type": "execute_result"
    }
   ],
   "source": [
    "print '---method 1'\n",
    "data[:]['total'] = data[:]['cn']+data[:]['en']+data[:]['math']\n",
    "t = np.sort(data,order='total')\n",
    "print t[::][::-1]\n",
    "\n",
    "\n",
    "print '---method 2'\n",
    "# 使用python内置的排序函数\n",
    "sorted(data,cmp=lambda x,y:cmp(x[1]+x[2]+x[3],y[1]+y[2]+y[3]),reverse=True)"
   ]
  }
 ],
 "metadata": {
  "kernelspec": {
   "display_name": "Python 2",
   "language": "python",
   "name": "python2"
  },
  "language_info": {
   "codemirror_mode": {
    "name": "ipython",
    "version": 2
   },
   "file_extension": ".py",
   "mimetype": "text/x-python",
   "name": "python",
   "nbconvert_exporter": "python",
   "pygments_lexer": "ipython2",
   "version": "2.7.13"
  }
 },
 "nbformat": 4,
 "nbformat_minor": 2
}
