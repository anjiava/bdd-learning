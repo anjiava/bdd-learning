{
 "cells": [
  {
   "cell_type": "markdown",
   "metadata": {},
   "source": [
    "# 简单数据类型"
   ]
  },
  {
   "cell_type": "code",
   "execution_count": 3,
   "metadata": {},
   "outputs": [
    {
     "name": "stdout",
     "output_type": "stream",
     "text": [
      "60936688 60936688\n",
      "True\n",
      "60936688 50787072\n",
      "False\n"
     ]
    }
   ],
   "source": [
    "x = 500\n",
    "y = x\n",
    "# 对于简单的数据类型，存在内存复用的情况\n",
    "print id(x),id(y)\n",
    "print x is y\n",
    "y = 'foo'\n",
    "print id(x),id(y)\n",
    "print x is y"
   ]
  },
  {
   "cell_type": "markdown",
   "metadata": {},
   "source": [
    "# 容器数据类型"
   ]
  },
  {
   "cell_type": "code",
   "execution_count": 6,
   "metadata": {},
   "outputs": [
    {
     "name": "stdout",
     "output_type": "stream",
     "text": [
      "73631816 60937144 60936736 60936856\n",
      "73631816 60937144 60936736 60936856\n",
      "73631816 60937144 60936952 60936856\n",
      "73631816 60937144 60936952 60936856\n"
     ]
    }
   ],
   "source": [
    "x = [500,600,1000]\n",
    "print id(x),id(x[0]),id(x[1]),id(x[2])\n",
    "\n",
    "y = x\n",
    "print id(y),id(y[0]),id(y[1]),id(y[2])\n",
    "y[1] = 800\n",
    "print id(x),id(x[0]),id(x[1]),id(x[2])\n",
    "print id(y),id(y[0]),id(y[1]),id(y[2])\n"
   ]
  }
 ],
 "metadata": {
  "kernelspec": {
   "display_name": "Python 2",
   "language": "python",
   "name": "python2"
  },
  "language_info": {
   "codemirror_mode": {
    "name": "ipython",
    "version": 2
   },
   "file_extension": ".py",
   "mimetype": "text/x-python",
   "name": "python",
   "nbconvert_exporter": "python",
   "pygments_lexer": "ipython2",
   "version": "2.7.13"
  }
 },
 "nbformat": 4,
 "nbformat_minor": 2
}
