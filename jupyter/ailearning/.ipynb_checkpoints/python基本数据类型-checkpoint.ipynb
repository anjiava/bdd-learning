{
 "cells": [
  {
   "cell_type": "markdown",
   "metadata": {},
   "source": [
    "# 数字类型 "
   ]
  },
  {
   "cell_type": "markdown",
   "metadata": {},
   "source": [
    "## 整数"
   ]
  },
  {
   "cell_type": "code",
   "execution_count": 60,
   "metadata": {},
   "outputs": [
    {
     "name": "stdout",
     "output_type": "stream",
     "text": [
      "4\n",
      "-1\n",
      "20\n",
      "2\n",
      "2.4\n"
     ]
    }
   ],
   "source": [
    "print 2+2\n",
    "\n",
    "print 3-4\n",
    "\n",
    "print 4*5\n",
    "\n",
    "print 12/5\n",
    "\n",
    "print 12.0/5"
   ]
  },
  {
   "cell_type": "code",
   "execution_count": 27,
   "metadata": {},
   "outputs": [
    {
     "data": {
      "text/plain": [
       "32"
      ]
     },
     "execution_count": 27,
     "metadata": {},
     "output_type": "execute_result"
    }
   ],
   "source": [
    "# 幂指数，2的五次方\n",
    "2**5"
   ]
  },
  {
   "cell_type": "code",
   "execution_count": 29,
   "metadata": {},
   "outputs": [
    {
     "data": {
      "text/plain": [
       "2"
      ]
     },
     "execution_count": 29,
     "metadata": {},
     "output_type": "execute_result"
    }
   ],
   "source": [
    "32%5"
   ]
  },
  {
   "cell_type": "markdown",
   "metadata": {},
   "source": [
    "####  原地计算 In-place"
   ]
  },
  {
   "cell_type": "code",
   "execution_count": 74,
   "metadata": {},
   "outputs": [
    {
     "name": "stdout",
     "output_type": "stream",
     "text": [
      "5\n",
      "10\n",
      "7\n"
     ]
    }
   ],
   "source": [
    "b = 3\n",
    "b+=2\n",
    "print b\n",
    "b *=2 \n",
    "print b\n",
    "b -=3\n",
    "print b"
   ]
  },
  {
   "cell_type": "code",
   "execution_count": 30,
   "metadata": {},
   "outputs": [
    {
     "data": {
      "text/plain": [
       "float"
      ]
     },
     "execution_count": 30,
     "metadata": {},
     "output_type": "execute_result"
    }
   ],
   "source": [
    "type(32.0/5)"
   ]
  },
  {
   "cell_type": "code",
   "execution_count": 31,
   "metadata": {},
   "outputs": [
    {
     "data": {
      "text/plain": [
       "2147483647"
      ]
     },
     "execution_count": 31,
     "metadata": {},
     "output_type": "execute_result"
    }
   ],
   "source": [
    "import sys\n",
    "\n",
    "sys.maxint"
   ]
  },
  {
   "cell_type": "code",
   "execution_count": 32,
   "metadata": {},
   "outputs": [
    {
     "data": {
      "text/plain": [
       "long"
      ]
     },
     "execution_count": 32,
     "metadata": {},
     "output_type": "execute_result"
    }
   ],
   "source": [
    "type(sys.maxint+1)"
   ]
  },
  {
   "cell_type": "markdown",
   "metadata": {},
   "source": [
    "## 浮点数 "
   ]
  },
  {
   "cell_type": "code",
   "execution_count": 34,
   "metadata": {},
   "outputs": [
    {
     "data": {
      "text/plain": [
       "1.2999999999999998"
      ]
     },
     "execution_count": 34,
     "metadata": {},
     "output_type": "execute_result"
    }
   ],
   "source": [
    "3.4%2.1"
   ]
  },
  {
   "cell_type": "code",
   "execution_count": 83,
   "metadata": {},
   "outputs": [
    {
     "name": "stdout",
     "output_type": "stream",
     "text": [
      "3.2\n"
     ]
    },
    {
     "ename": "TypeError",
     "evalue": "object of type 'float' has no len()",
     "output_type": "error",
     "traceback": [
      "\u001b[1;31m\u001b[0m",
      "\u001b[1;31mTypeError\u001b[0mTraceback (most recent call last)",
      "\u001b[1;32m<ipython-input-83-0b5cda2738c9>\u001b[0m in \u001b[0;36m<module>\u001b[1;34m()\u001b[0m\n\u001b[0;32m      2\u001b[0m \u001b[1;33m\u001b[0m\u001b[0m\n\u001b[0;32m      3\u001b[0m \u001b[1;36m3.4\u001b[0m\u001b[1;33m-\u001b[0m\u001b[1;36m0.2\u001b[0m\u001b[1;33m\u001b[0m\u001b[0m\n\u001b[1;32m----> 4\u001b[1;33m \u001b[0mlen\u001b[0m\u001b[1;33m(\u001b[0m\u001b[1;36m3.4\u001b[0m\u001b[1;33m-\u001b[0m\u001b[1;36m0.2\u001b[0m\u001b[1;33m)\u001b[0m\u001b[1;33m\u001b[0m\u001b[0m\n\u001b[0m",
      "\u001b[1;31mTypeError\u001b[0m: object of type 'float' has no len()"
     ]
    }
   ],
   "source": [
    "print 3.4-0.2\n",
    "\n",
    "3.4-0.2"
   ]
  },
  {
   "cell_type": "code",
   "execution_count": 37,
   "metadata": {},
   "outputs": [
    {
     "data": {
      "text/plain": [
       "'3.199999999999999733546474089962430298328399658203125'"
      ]
     },
     "execution_count": 37,
     "metadata": {},
     "output_type": "execute_result"
    }
   ],
   "source": [
    "'{:.52}'.format(3.4-0.2)"
   ]
  },
  {
   "cell_type": "code",
   "execution_count": 38,
   "metadata": {},
   "outputs": [
    {
     "data": {
      "text/plain": [
       "sys.float_info(max=1.7976931348623157e+308, max_exp=1024, max_10_exp=308, min=2.2250738585072014e-308, min_exp=-1021, min_10_exp=-307, dig=15, mant_dig=53, epsilon=2.220446049250313e-16, radix=2, rounds=1)"
      ]
     },
     "execution_count": 38,
     "metadata": {},
     "output_type": "execute_result"
    }
   ],
   "source": [
    "import sys\n",
    "\n",
    "sys.float_info"
   ]
  },
  {
   "cell_type": "code",
   "execution_count": 46,
   "metadata": {},
   "outputs": [
    {
     "data": {
      "text/plain": [
       "1.7976931348623157e+308"
      ]
     },
     "execution_count": 46,
     "metadata": {},
     "output_type": "execute_result"
    }
   ],
   "source": [
    "sys.float_info.max"
   ]
  },
  {
   "cell_type": "markdown",
   "metadata": {},
   "source": [
    "#### 整除-> // ，返回比结果小的最大整数值 "
   ]
  },
  {
   "cell_type": "code",
   "execution_count": 62,
   "metadata": {},
   "outputs": [
    {
     "data": {
      "text/plain": [
       "-4.0"
      ]
     },
     "execution_count": 62,
     "metadata": {},
     "output_type": "execute_result"
    }
   ],
   "source": [
    "\n",
    "12.3 // 5.2\n",
    "\n",
    "12.3 / -4\n",
    "\n",
    "12.3 // -4"
   ]
  },
  {
   "cell_type": "markdown",
   "metadata": {},
   "source": [
    "## 复数 Complex Numbers "
   ]
  },
  {
   "cell_type": "code",
   "execution_count": 42,
   "metadata": {},
   "outputs": [
    {
     "data": {
      "text/plain": [
       "complex"
      ]
     },
     "execution_count": 42,
     "metadata": {},
     "output_type": "execute_result"
    }
   ],
   "source": [
    "a = 1+2j\n",
    "type(a)"
   ]
  },
  {
   "cell_type": "code",
   "execution_count": 43,
   "metadata": {},
   "outputs": [
    {
     "data": {
      "text/plain": [
       "1.0"
      ]
     },
     "execution_count": 43,
     "metadata": {},
     "output_type": "execute_result"
    }
   ],
   "source": [
    "a.real"
   ]
  },
  {
   "cell_type": "code",
   "execution_count": 44,
   "metadata": {},
   "outputs": [
    {
     "data": {
      "text/plain": [
       "2.0"
      ]
     },
     "execution_count": 44,
     "metadata": {},
     "output_type": "execute_result"
    }
   ],
   "source": [
    "a.imag"
   ]
  },
  {
   "cell_type": "code",
   "execution_count": 45,
   "metadata": {},
   "outputs": [
    {
     "data": {
      "text/plain": [
       "(1-2j)"
      ]
     },
     "execution_count": 45,
     "metadata": {},
     "output_type": "execute_result"
    }
   ],
   "source": [
    "a.conjugate()"
   ]
  },
  {
   "cell_type": "markdown",
   "metadata": {},
   "source": [
    "## 布尔类型 Boolean"
   ]
  },
  {
   "cell_type": "code",
   "execution_count": 77,
   "metadata": {},
   "outputs": [
    {
     "name": "stdout",
     "output_type": "stream",
     "text": [
      "<type 'bool'>\n",
      "<type 'bool'>\n"
     ]
    }
   ],
   "source": [
    "q = True\n",
    "p = False\n",
    "print type(q)\n",
    "print type(p)"
   ]
  },
  {
   "cell_type": "code",
   "execution_count": 80,
   "metadata": {},
   "outputs": [
    {
     "name": "stdout",
     "output_type": "stream",
     "text": [
      "True\n",
      "False\n",
      "True\n",
      "False\n"
     ]
    }
   ],
   "source": [
    "print q > p\n",
    "print q < p\n",
    "print q >= p\n",
    "print q <= p"
   ]
  },
  {
   "cell_type": "code",
   "execution_count": 81,
   "metadata": {},
   "outputs": [
    {
     "name": "stdout",
     "output_type": "stream",
     "text": [
      "False\n",
      "True\n"
     ]
    }
   ],
   "source": [
    "print q == p\n",
    "print q != p"
   ]
  },
  {
   "cell_type": "markdown",
   "metadata": {},
   "source": [
    "####  链式比较"
   ]
  },
  {
   "cell_type": "code",
   "execution_count": 82,
   "metadata": {},
   "outputs": [
    {
     "data": {
      "text/plain": [
       "True"
      ]
     },
     "execution_count": 82,
     "metadata": {},
     "output_type": "execute_result"
    }
   ],
   "source": [
    "x = 2\n",
    "1 < x <= 2"
   ]
  },
  {
   "cell_type": "code",
   "execution_count": null,
   "metadata": {
    "collapsed": true
   },
   "outputs": [],
   "source": []
  },
  {
   "cell_type": "markdown",
   "metadata": {},
   "source": [
    "## 数字的其他表示方式"
   ]
  },
  {
   "cell_type": "code",
   "execution_count": 65,
   "metadata": {},
   "outputs": [
    {
     "name": "stdout",
     "output_type": "stream",
     "text": [
      "1e-06\n"
     ]
    }
   ],
   "source": [
    "a = 1e-6\n",
    "type(a)\n",
    "print a"
   ]
  },
  {
   "cell_type": "code",
   "execution_count": 68,
   "metadata": {},
   "outputs": [
    {
     "data": {
      "text/plain": [
       "255"
      ]
     },
     "execution_count": 68,
     "metadata": {},
     "output_type": "execute_result"
    }
   ],
   "source": [
    " 0xFF"
   ]
  },
  {
   "cell_type": "code",
   "execution_count": 72,
   "metadata": {},
   "outputs": [
    {
     "data": {
      "text/plain": [
       "55"
      ]
     },
     "execution_count": 72,
     "metadata": {},
     "output_type": "execute_result"
    }
   ],
   "source": [
    "# 八进制\n",
    "0o67\n",
    "067"
   ]
  },
  {
   "cell_type": "code",
   "execution_count": 73,
   "metadata": {},
   "outputs": [
    {
     "data": {
      "text/plain": [
       "255"
      ]
     },
     "execution_count": 73,
     "metadata": {},
     "output_type": "execute_result"
    }
   ],
   "source": [
    "# 二进制\n",
    "0b11111111"
   ]
  },
  {
   "cell_type": "code",
   "execution_count": null,
   "metadata": {
    "collapsed": true
   },
   "outputs": [],
   "source": []
  },
  {
   "cell_type": "markdown",
   "metadata": {},
   "source": [
    "## 内置数学函数 "
   ]
  },
  {
   "cell_type": "code",
   "execution_count": 50,
   "metadata": {},
   "outputs": [
    {
     "data": {
      "text/plain": [
       "12.4"
      ]
     },
     "execution_count": 50,
     "metadata": {},
     "output_type": "execute_result"
    }
   ],
   "source": [
    "abs(-12.4)"
   ]
  },
  {
   "cell_type": "code",
   "execution_count": 58,
   "metadata": {},
   "outputs": [
    {
     "name": "stdout",
     "output_type": "stream",
     "text": [
      "13.0\n",
      "12.0\n",
      "-13.0\n",
      "-12.0\n"
     ]
    }
   ],
   "source": [
    "print round(12.6)\n",
    "print round(12.3)\n",
    "print round(-12.6)\n",
    "print round(-12.3)"
   ]
  },
  {
   "cell_type": "code",
   "execution_count": 55,
   "metadata": {},
   "outputs": [
    {
     "name": "stdout",
     "output_type": "stream",
     "text": [
      "1\n",
      "4\n"
     ]
    }
   ],
   "source": [
    "print min(1,2,3,4)\n",
    "print max(1,2,3,4)"
   ]
  },
  {
   "cell_type": "code",
   "execution_count": 57,
   "metadata": {},
   "outputs": [
    {
     "name": "stdout",
     "output_type": "stream",
     "text": [
      "12\n",
      "12\n",
      "-3\n",
      "-3\n"
     ]
    }
   ],
   "source": [
    "print int(12.4)\n",
    "print int(12.6)\n",
    "print int(-3.14)\n",
    "print int(-3.74)"
   ]
  },
  {
   "cell_type": "code",
   "execution_count": 59,
   "metadata": {},
   "outputs": [
    {
     "name": "stdout",
     "output_type": "stream",
     "text": [
      "20.0\n"
     ]
    }
   ],
   "source": [
    "print float(20)"
   ]
  },
  {
   "cell_type": "markdown",
   "metadata": {},
   "source": [
    "# 字符串String"
   ]
  },
  {
   "cell_type": "code",
   "execution_count": 94,
   "metadata": {},
   "outputs": [
    {
     "name": "stdout",
     "output_type": "stream",
     "text": [
      "hello\n",
      "hello\n",
      "hell\n",
      "o\n"
     ]
    }
   ],
   "source": [
    "s = 'hello'\n",
    "print s\n",
    "s1 = \"hello\"\n",
    "print s1\n",
    "s2 = '''hell\n",
    "o'''\n",
    "print s2\n"
   ]
  },
  {
   "cell_type": "code",
   "execution_count": 86,
   "metadata": {},
   "outputs": [
    {
     "data": {
      "text/plain": [
       "'hello world'"
      ]
     },
     "execution_count": 86,
     "metadata": {},
     "output_type": "execute_result"
    }
   ],
   "source": [
    "s + ' world'"
   ]
  },
  {
   "cell_type": "code",
   "execution_count": 87,
   "metadata": {},
   "outputs": [
    {
     "name": "stdout",
     "output_type": "stream",
     "text": [
      "hello\n",
      "hello world\n"
     ]
    }
   ],
   "source": [
    "print s\n",
    "s += ' world'\n",
    "print s"
   ]
  },
  {
   "cell_type": "code",
   "execution_count": 89,
   "metadata": {},
   "outputs": [
    {
     "data": {
      "text/plain": [
       "'hellohellohello'"
      ]
     },
     "execution_count": 89,
     "metadata": {},
     "output_type": "execute_result"
    }
   ],
   "source": [
    "s = 'hello'*3\n",
    "s"
   ]
  },
  {
   "cell_type": "markdown",
   "metadata": {},
   "source": [
    "## 字符串api "
   ]
  },
  {
   "cell_type": "code",
   "execution_count": null,
   "metadata": {
    "collapsed": true
   },
   "outputs": [],
   "source": [
    "len(s)"
   ]
  },
  {
   "cell_type": "code",
   "execution_count": 92,
   "metadata": {},
   "outputs": [
    {
     "name": "stdout",
     "output_type": "stream",
     "text": [
      "['1', '2', '3', '4', '5']\n",
      "['1', '1', '1', '1', '1', '']\n"
     ]
    }
   ],
   "source": [
    "lines = '1 2 3 4 5'\n",
    "print lines.split()\n",
    "lines = '1,'*5\n",
    "print lines.split(',')"
   ]
  },
  {
   "cell_type": "code",
   "execution_count": 95,
   "metadata": {},
   "outputs": [
    {
     "name": "stdout",
     "output_type": "stream",
     "text": [
      "1 1 1 1 1 \n",
      "1,1,1,1,1,\n"
     ]
    }
   ],
   "source": [
    "# join前的字符作为分隔符\n",
    "s = ' '\n",
    "print s.join(lines.split(','))\n",
    "s = ','\n",
    "print s.join(lines.split(','))\n"
   ]
  },
  {
   "cell_type": "code",
   "execution_count": 98,
   "metadata": {},
   "outputs": [
    {
     "name": "stdout",
     "output_type": "stream",
     "text": [
      "hello python2.7\n",
      "hello world\n"
     ]
    }
   ],
   "source": [
    "s = 'hello world'\n",
    "print s.replace('world','python2.7')\n",
    "print s"
   ]
  },
  {
   "cell_type": "code",
   "execution_count": 99,
   "metadata": {},
   "outputs": [
    {
     "name": "stdout",
     "output_type": "stream",
     "text": [
      "HELLO WORLD\n",
      "hello world\n"
     ]
    }
   ],
   "source": [
    "print s.upper()\n",
    "print s.upper().lower()"
   ]
  },
  {
   "cell_type": "code",
   "execution_count": 102,
   "metadata": {},
   "outputs": [
    {
     "name": "stdout",
     "output_type": "stream",
     "text": [
      "hello world\n",
      "hello world   \n",
      "  hello world\n"
     ]
    }
   ],
   "source": [
    "# strip去除左右两端的空格，l,r分别代表左边和后边\n",
    "s = '  hello world   '\n",
    "print s.strip()\n",
    "print s.lstrip()\n",
    "print s.rstrip()"
   ]
  },
  {
   "cell_type": "code",
   "execution_count": 107,
   "metadata": {},
   "outputs": [
    {
     "name": "stdout",
     "output_type": "stream",
     "text": [
      "3.3\n",
      "3.3000000000000003\n"
     ]
    },
    {
     "data": {
      "text/plain": [
       "'3.3000000000000003'"
      ]
     },
     "execution_count": 107,
     "metadata": {},
     "output_type": "execute_result"
    }
   ],
   "source": [
    "print str(1.1+2.2)\n",
    "print repr(1.1+2.2)"
   ]
  },
  {
   "cell_type": "code",
   "execution_count": 112,
   "metadata": {},
   "outputs": [
    {
     "name": "stdout",
     "output_type": "stream",
     "text": [
      "convert number to str\n",
      "0xff\n",
      "0377\n",
      "0b11111111\n",
      "255\n",
      "convert str to number\n",
      "255\n",
      "255\n",
      "255\n",
      "255.0\n"
     ]
    }
   ],
   "source": [
    "\n",
    "# 将数字按照对应的进制转换为字符串\n",
    "print 'convert number to str'\n",
    "print hex(255)\n",
    "print oct(255)\n",
    "print bin(255)\n",
    "print str(255)\n",
    "print 'convert str to number'\n",
    "\n",
    "# 将字符换按照对应的进制进行解释(第二个参数即当前字符串数字是什么进制表示的)，并转换为十进制\n",
    "print int('11111111',2)\n",
    "print int('FF',16)\n",
    "print int('377',8)\n",
    "print float('255')\n"
   ]
  },
  {
   "cell_type": "code",
   "execution_count": 120,
   "metadata": {},
   "outputs": [
    {
     "name": "stdout",
     "output_type": "stream",
     "text": [
      "a b c\n",
      "c b a\n",
      "a c b\n",
      "c a b\n"
     ]
    }
   ],
   "source": [
    "print '{} {} {}'.format('a','b','c')\n",
    "print '{2} {1} {0}'.format('a','b','c')\n",
    "\n",
    "print '{a} {c} {b}'.format(a='a',b='b',c='c')\n",
    "# 混用的时候，索引必须从0开始\n",
    "print '{c} {0} {b}'.format('a',b='b',c='c')"
   ]
  },
  {
   "cell_type": "code",
   "execution_count": 121,
   "metadata": {},
   "outputs": [
    {
     "data": {
      "text/plain": [
       "'foo                 5       6.28'"
      ]
     },
     "execution_count": 121,
     "metadata": {},
     "output_type": "execute_result"
    }
   ],
   "source": [
    "# 格式化可以按照{<field name>:<format>} 给定格式\n",
    "from math import pi\n",
    "'{0:10} {1:10d} {2:10.2f}'.format('foo',5,2*pi)"
   ]
  },
  {
   "cell_type": "code",
   "execution_count": 122,
   "metadata": {},
   "outputs": [
    {
     "data": {
      "text/plain": [
       "'some numbers: 3.141593,3'"
      ]
     },
     "execution_count": 122,
     "metadata": {},
     "output_type": "execute_result"
    }
   ],
   "source": [
    "# 旧的格式化方式\n",
    "'%s %f,%d' % ('some numbers:',pi,3)"
   ]
  },
  {
   "cell_type": "code",
   "execution_count": null,
   "metadata": {
    "collapsed": true
   },
   "outputs": [],
   "source": [
    "# 查询字符串的内置函数\n",
    "dir(s)"
   ]
  },
  {
   "cell_type": "markdown",
   "metadata": {},
   "source": [
    "## 索引及分片"
   ]
  },
  {
   "cell_type": "code",
   "execution_count": 123,
   "metadata": {
    "collapsed": true
   },
   "outputs": [],
   "source": [
    "s = 'hello world'"
   ]
  },
  {
   "cell_type": "code",
   "execution_count": 128,
   "metadata": {},
   "outputs": [
    {
     "name": "stdout",
     "output_type": "stream",
     "text": [
      "h\n",
      "d\n",
      "hello world\n",
      "hello worl\n"
     ]
    }
   ],
   "source": [
    "print s[0]\n",
    "print s[-1]"
   ]
  },
  {
   "cell_type": "code",
   "execution_count": 135,
   "metadata": {},
   "outputs": [
    {
     "name": "stdout",
     "output_type": "stream",
     "text": [
      "hello world\n",
      "hello world\n",
      "hello worl\n",
      "hello worl\n",
      "hlowrd\n",
      "dlrow olleh\n",
      "\n",
      "hello world\n"
     ]
    }
   ],
   "source": [
    "# var[lower:upper:step] ,lower和upper即范围区间，[lower,upper)，step为步长\n",
    "print s[:]\n",
    "print s[0:]\n",
    "print s[:-1]\n",
    "print s[0:-1]\n",
    "print s[0::2]\n",
    "# step为复数表示从尾部往前\n",
    "print s[::-1]\n",
    "\n",
    "# 区间范围超过时不会报错\n",
    "print s[100:]\n",
    "print s[:100]"
   ]
  },
  {
   "cell_type": "code",
   "execution_count": 29,
   "metadata": {
    "scrolled": true
   },
   "outputs": [
    {
     "name": "stdout",
     "output_type": "stream",
     "text": [
      "True\n"
     ]
    }
   ],
   "source": [
    "s = 'abcde'\n",
    "print 'd' in s"
   ]
  },
  {
   "cell_type": "markdown",
   "metadata": {},
   "source": [
    "# 列表List"
   ]
  },
  {
   "cell_type": "code",
   "execution_count": 47,
   "metadata": {},
   "outputs": [
    {
     "name": "stdout",
     "output_type": "stream",
     "text": [
      "[1, 1, 3, 4, ['hello', 'world']]\n"
     ]
    }
   ],
   "source": [
    "a = [1,1,3,4,['hello','world']]\n",
    "print a"
   ]
  },
  {
   "cell_type": "code",
   "execution_count": 2,
   "metadata": {},
   "outputs": [
    {
     "name": "stdout",
     "output_type": "stream",
     "text": [
      "[]\n",
      "[]\n"
     ]
    }
   ],
   "source": [
    "empty_list = []\n",
    "print empty_list\n",
    "empty_list = list()\n",
    "print empty_list"
   ]
  },
  {
   "cell_type": "code",
   "execution_count": 6,
   "metadata": {},
   "outputs": [
    {
     "name": "stdout",
     "output_type": "stream",
     "text": [
      "[1, 2, 3, 'hello', 'list']\n",
      "[1, 2, 3, 1, 2, 3]\n"
     ]
    }
   ],
   "source": [
    "a = [1,2,3]\n",
    "b = ['hello','list']\n",
    "\n",
    "print a + b\n",
    "print a * 2\n"
   ]
  },
  {
   "cell_type": "markdown",
   "metadata": {},
   "source": [
    "## 列表的索引和分片"
   ]
  },
  {
   "cell_type": "code",
   "execution_count": 9,
   "metadata": {},
   "outputs": [
    {
     "name": "stdout",
     "output_type": "stream",
     "text": [
      "10\n",
      "[10, 11, 12, 13, 14]\n",
      "[10, 12]\n"
     ]
    }
   ],
   "source": [
    "a = [10,11,12,13,14]\n",
    "\n",
    "print a[0]\n",
    "print a[::]\n",
    "print a[0:-1:2]"
   ]
  },
  {
   "cell_type": "code",
   "execution_count": 18,
   "metadata": {},
   "outputs": [
    {
     "name": "stdout",
     "output_type": "stream",
     "text": [
      "[100, 11, 12, 13, 14]\n",
      "[100, 111, 122, 13, 14]\n",
      "[100, 111, 222, 12, 13, 13, 14]\n",
      "[100, 12, 13, 13, 14]\n",
      "[100, 11, 13, 12, 14]\n"
     ]
    }
   ],
   "source": [
    "a = [10,11,12,13,14]\n",
    "a[0] = 100\n",
    "print a[::]\n",
    "a[1:3] = [111,122]\n",
    "print a\n",
    "# 对于step为1时，是整段替换，即将新数组直接插入当该位置\n",
    "a[1:3] = [111,222,12,13]\n",
    "print a\n",
    "a[1:5] = [12,13]\n",
    "print a\n",
    "\n",
    "a[1:4:2] = [11,12]\n",
    "print a\n",
    "\n",
    "# 对于step不为1时，要修改的元素必须和给定的元素数量相同\n",
    "#a[1:4:2] = [11]"
   ]
  },
  {
   "cell_type": "code",
   "execution_count": 20,
   "metadata": {},
   "outputs": [
    {
     "data": {
      "text/plain": [
       "5"
      ]
     },
     "execution_count": 20,
     "metadata": {},
     "output_type": "execute_result"
    }
   ],
   "source": [
    "len(a)"
   ]
  },
  {
   "cell_type": "code",
   "execution_count": 26,
   "metadata": {},
   "outputs": [
    {
     "name": "stdout",
     "output_type": "stream",
     "text": [
      "['a', 'b', 'c']\n",
      "['b', 'c']\n",
      "[]\n"
     ]
    }
   ],
   "source": [
    "a = [1002,'a','b','c']\n",
    "del a[0]\n",
    "print a\n",
    "a[0:1] = []\n",
    "print a\n",
    "\n",
    "del a[::]\n",
    "print a"
   ]
  },
  {
   "cell_type": "code",
   "execution_count": 28,
   "metadata": {},
   "outputs": [
    {
     "name": "stdout",
     "output_type": "stream",
     "text": [
      "True\n",
      "True\n"
     ]
    }
   ],
   "source": [
    "a =  [10,11,12,13]\n",
    "print 10 in a\n",
    "print 9 not in a"
   ]
  },
  {
   "cell_type": "code",
   "execution_count": 46,
   "metadata": {},
   "outputs": [
    {
     "name": "stdout",
     "output_type": "stream",
     "text": [
      "2\n",
      "1\n",
      "[10, 11, 12, 13, 11, 14]\n",
      "[10, 11, 12, 13, 11, 14, [1, 2]]\n",
      "[10, 11, 12, 13, 11, 14, [1, 2], 3, 4]\n",
      "[9, 10, 11, 12, 13, 11, 14, [1, 2], 3, 4]\n",
      "[9, 10, 11, 12, 13, 11, 14, 3, 4]\n",
      "4\n",
      "[9, 10, 11, 12, 13, 11, 14, 3]\n",
      "after execute sorted [3, 9, 10, 11, 11, 12, 13, 14]\n",
      "[9, 10, 11, 12, 13, 11, 14, 3]\n",
      "[3, 9, 10, 11, 11, 12, 13, 14]\n",
      "[14, 13, 12, 11, 11, 10, 9, 3]\n",
      "[14, 13, 12, 11, 11, 10, 9, 3]\n"
     ]
    }
   ],
   "source": [
    "a =  [10,11,12,13,11]\n",
    "\n",
    "print a.count(11)\n",
    "\n",
    "print a.index(11)\n",
    "\n",
    "a.append(14)\n",
    "print a\n",
    "a.append([1,2])\n",
    "print a\n",
    "a.extend([3,4])\n",
    "print a\n",
    "\n",
    "a.insert(0,9)\n",
    "print a\n",
    "\n",
    "a.remove([1,2])\n",
    "print a\n",
    "\n",
    "print a.pop(-1)\n",
    "print a\n",
    "\n",
    "print 'after execute sorted',sorted(a)\n",
    "print a\n",
    "a.sort()\n",
    "print a\n",
    "\n",
    "a.reverse()\n",
    "pr"
   ]
  },
  {
   "cell_type": "markdown",
   "metadata": {},
   "source": [
    "# 元组 Tuple"
   ]
  },
  {
   "cell_type": "code",
   "execution_count": 48,
   "metadata": {},
   "outputs": [
    {
     "data": {
      "text/plain": [
       "(10, 11, 12, 13, 14)"
      ]
     },
     "execution_count": 48,
     "metadata": {},
     "output_type": "execute_result"
    }
   ],
   "source": [
    "t = (10,11,12,13,14)\n",
    "t"
   ]
  },
  {
   "cell_type": "code",
   "execution_count": 51,
   "metadata": {},
   "outputs": [
    {
     "name": "stdout",
     "output_type": "stream",
     "text": [
      "(10, 11, 12, 13, 14)\n"
     ]
    }
   ],
   "source": [
    "print t[0:]"
   ]
  },
  {
   "cell_type": "code",
   "execution_count": 53,
   "metadata": {},
   "outputs": [
    {
     "name": "stdout",
     "output_type": "stream",
     "text": [
      "<type 'tuple'>\n",
      "<type 'int'>\n"
     ]
    }
   ],
   "source": [
    "a = (10,)\n",
    "print type(a)\n",
    "b = (10)\n",
    "print type(b)"
   ]
  },
  {
   "cell_type": "code",
   "execution_count": 55,
   "metadata": {},
   "outputs": [
    {
     "name": "stdout",
     "output_type": "stream",
     "text": [
      "<type 'tuple'>\n"
     ]
    },
    {
     "data": {
      "text/plain": [
       "(10, 11, 12, 13)"
      ]
     },
     "execution_count": 55,
     "metadata": {},
     "output_type": "execute_result"
    }
   ],
   "source": [
    "a = [10,11,12,13]\n",
    "t = tuple(a)\n",
    "print type(t)\n",
    "t"
   ]
  },
  {
   "cell_type": "code",
   "execution_count": 63,
   "metadata": {},
   "outputs": [
    {
     "name": "stdout",
     "output_type": "stream",
     "text": [
      "0\n",
      "2\n"
     ]
    }
   ],
   "source": [
    "t = (11,15,16,18)\n",
    "\n",
    "print t.count(17)\n",
    "\n",
    "print t.index(16)"
   ]
  },
  {
   "cell_type": "markdown",
   "metadata": {},
   "source": [
    "# 字典 Dictionary"
   ]
  },
  {
   "cell_type": "code",
   "execution_count": 72,
   "metadata": {},
   "outputs": [
    {
     "name": "stdout",
     "output_type": "stream",
     "text": [
      "{'cats': 4, 'dogs': 5}\n",
      "{'cats': 10, 'dogs': '7'}\n"
     ]
    }
   ],
   "source": [
    "d = {'dogs':5,'cats':4}\n",
    "d1 = dict([('dogs','7'),('cats',10)])\n",
    "print d\n",
    "print d1"
   ]
  },
  {
   "cell_type": "code",
   "execution_count": 12,
   "metadata": {},
   "outputs": [
    {
     "data": {
      "text/plain": [
       "2"
      ]
     },
     "execution_count": 12,
     "metadata": {},
     "output_type": "execute_result"
    }
   ],
   "source": [
    "len(d)"
   ]
  },
  {
   "cell_type": "code",
   "execution_count": 13,
   "metadata": {},
   "outputs": [
    {
     "data": {
      "text/plain": [
       "5"
      ]
     },
     "execution_count": 13,
     "metadata": {},
     "output_type": "execute_result"
    }
   ],
   "source": [
    "d['dogs']"
   ]
  },
  {
   "cell_type": "code",
   "execution_count": 73,
   "metadata": {},
   "outputs": [
    {
     "name": "stdout",
     "output_type": "stream",
     "text": [
      "{'cats': 4, 'dogs': 3}\n",
      "{0: 4, 'cats': 4, 'dogs': 3}\n"
     ]
    }
   ],
   "source": [
    "d = {'dogs':5,'cats':4}\n",
    "d['dogs']=3\n",
    "print d\n",
    "d[0] = 4\n",
    "print d\n"
   ]
  },
  {
   "cell_type": "code",
   "execution_count": 76,
   "metadata": {},
   "outputs": [
    {
     "data": {
      "text/plain": [
       "{'cats': 10, 'dogs': 27}"
      ]
     },
     "execution_count": 76,
     "metadata": {},
     "output_type": "execute_result"
    }
   ],
   "source": [
    "d1 = dict([('dogs',7),('cats',10)])\n",
    "d1['dogs']+=20\n",
    "d1"
   ]
  },
  {
   "cell_type": "code",
   "execution_count": 77,
   "metadata": {},
   "outputs": [
    {
     "name": "stdout",
     "output_type": "stream",
     "text": [
      "1008\n",
      "1006\n"
     ]
    }
   ],
   "source": [
    "d_t = {}\n",
    "d_t[('beijing','shanghai')] = 1008\n",
    "d_t[('shanghai','beijing')] = 1006\n",
    "\n",
    "print d_t[('beijing','shanghai')]\n",
    "print d_t[('shanghai','beijing')]"
   ]
  },
  {
   "cell_type": "code",
   "execution_count": 84,
   "metadata": {},
   "outputs": [
    {
     "name": "stdout",
     "output_type": "stream",
     "text": [
      "None\n",
      "4\n",
      "{}\n"
     ]
    }
   ],
   "source": [
    "d = {'dogs':5,'cats':4} \n",
    "#print d.get(k, default = None)\n",
    "# 这里不能指定参数的名字，会报错\n",
    "print d.get('sneak', None)\n",
    "\n",
    "\n",
    "print d.pop('cats',None)\n",
    "\n",
    "del d['dogs']\n",
    "print d\n",
    "\n"
   ]
  },
  {
   "cell_type": "code",
   "execution_count": 86,
   "metadata": {},
   "outputs": [
    {
     "name": "stdout",
     "output_type": "stream",
     "text": [
      "{'cats': 0, 'dogs': 13, 'monkey': 1}\n",
      "True\n"
     ]
    }
   ],
   "source": [
    "d = {'dogs':5,'cats':4} \n",
    "\n",
    "d.update({'dogs':13,'cats':0,'monkey':1})\n",
    "print d\n",
    "\n",
    "print 'monkey' in d"
   ]
  },
  {
   "cell_type": "code",
   "execution_count": 88,
   "metadata": {},
   "outputs": [
    {
     "name": "stdout",
     "output_type": "stream",
     "text": [
      "['cats', 'dogs']\n",
      "[4, 5]\n",
      "[('cats', 4), ('dogs', 5)]\n"
     ]
    }
   ],
   "source": [
    "d = {'dogs':5,'cats':4} \n",
    "print d.keys()\n",
    "print d.values()\n",
    "print d.items()"
   ]
  },
  {
   "cell_type": "markdown",
   "metadata": {},
   "source": [
    "# 集合Set"
   ]
  },
  {
   "cell_type": "code",
   "execution_count": 90,
   "metadata": {},
   "outputs": [
    {
     "name": "stdout",
     "output_type": "stream",
     "text": [
      "set([]) set([1, 2, 3, 4]) set([1, 2])\n"
     ]
    }
   ],
   "source": [
    "a = set()\n",
    "s = set([1,2,3,4,3,1])\n",
    "d = {1,1,1,2}\n",
    "print a,s,d\n"
   ]
  },
  {
   "cell_type": "code",
   "execution_count": 99,
   "metadata": {},
   "outputs": [
    {
     "name": "stdout",
     "output_type": "stream",
     "text": [
      "set([3, 4]) set([3, 4])\n",
      "set([1, 2, 3, 4, 5, 6]) set([1, 2, 3, 4, 5, 6])\n",
      "set([1, 2]) set([1, 2])\n",
      "set([5, 6]) set([5, 6])\n",
      "set([1, 2, 5, 6]) set([1, 2, 5, 6])\n",
      "True True\n",
      "True True\n",
      "False True\n",
      "True\n"
     ]
    }
   ],
   "source": [
    "a = {1,2,3,4}\n",
    "b = {3,4,5,6}\n",
    "\n",
    "print a & b , a.intersection(b)\n",
    "print a | b , a.union(b)\n",
    "print a - b , a.difference(b)\n",
    "print b - a , b.difference(a)\n",
    "# 不同时在a 和b中出现的元素\n",
    "print a ^ b , a.symmetric_difference(b)\n",
    "\n",
    "a = {1,2,3}\n",
    "b = {1,2}\n",
    "\n",
    "print b <= a , b.issubset(a)\n",
    "print a >= b , a.issuperset(b)\n",
    "\n",
    "# < 操作符可以判断是否是真子集，方法只能用于测试子集\n",
    "print a < a,b < a\n",
    "print a.issubset(a)\n",
    "\n"
   ]
  },
  {
   "cell_type": "code",
   "execution_count": null,
   "metadata": {
    "collapsed": true
   },
   "outputs": [],
   "source": [
    "s"
   ]
  }
 ],
 "metadata": {
  "kernelspec": {
   "display_name": "Python 2",
   "language": "python",
   "name": "python2"
  },
  "language_info": {
   "codemirror_mode": {
    "name": "ipython",
    "version": 2
   },
   "file_extension": ".py",
   "mimetype": "text/x-python",
   "name": "python",
   "nbconvert_exporter": "python",
   "pygments_lexer": "ipython2",
   "version": "2.7.13"
  }
 },
 "nbformat": 4,
 "nbformat_minor": 2
}
